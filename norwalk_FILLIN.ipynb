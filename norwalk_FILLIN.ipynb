{
  "nbformat": 4,
  "nbformat_minor": 0,
  "metadata": {
    "colab": {
      "provenance": []
    },
    "kernelspec": {
      "name": "python3",
      "display_name": "Python 3"
    },
    "language_info": {
      "name": "python"
    }
  },
  "cells": [
    {
      "cell_type": "code",
      "execution_count": null,
      "metadata": {
        "id": "WnM508gehFS7",
        "colab": {
          "base_uri": "https://localhost:8080/"
        },
        "outputId": "b3df1d56-dbd2-4502-891c-a6b443c1f196"
      },
      "outputs": [
        {
          "output_type": "stream",
          "name": "stdout",
          "text": [
            "Welcome, Hero, to your adventure!\n",
            "Your starting health is: 100\n"
          ]
        }
      ],
      "source": [
        "# 1. Variable Setting\n",
        "\n",
        "# Let's start by setting a variable for your character's name.\n",
        "# You can change 'Hero' to whatever name you like!\n",
        "character_name = 'Hero'\n",
        "print(f\"Welcome, {character_name}, to your adventure!\")\n",
        "\n",
        "# Now, let's set a variable for your character's starting health.\n",
        "character_health = #TYPE YOUR CHARACTER HEALTH HERE\n",
        "print(f\"Your starting health is: {character_health}\")\n"
      ]
    },
    {
      "cell_type": "code",
      "source": [
        "# 2. Conditionals\n",
        "\n",
        "# We'll use conditionals to make choices in our adventure.\n",
        "# Let's present a choice: Do you go left or right at a fork in the road?\n",
        "\n",
        "direction = input(\"You are at a fork in the road. Do you go 'left' or 'right'? \")\n",
        "\n",
        "if direction == 'left':\n",
        "  print(\"You chose to go left. You find a hidden treasure!\")\n",
        "  # We can update a variable based on the choice\n",
        "  character_health += 10 # You gain health from the treasure!\n",
        "  print(f\"Your health is now: {character_health}\")\n",
        "elif direction == #TYPE THE OTHER DIRECTION HERE:\n",
        "  print(\"You chose to go right. You encounter a wild animal!\")\n",
        "  # We can update a variable based on the choice\n",
        "  character_health -= 20 # You lose health from the animal\n",
        "  print(f\"Your health is now: {character_health}\")\n",
        "else:\n",
        "  print(\"Invalid choice. You stand still, lost in thought.\")\n"
      ],
      "metadata": {
        "colab": {
          "base_uri": "https://localhost:8080/"
        },
        "id": "Ox0zgKTXh-43",
        "outputId": "50429e85-c0a0-46e0-875f-6584e2f39921"
      },
      "execution_count": null,
      "outputs": [
        {
          "output_type": "stream",
          "name": "stdout",
          "text": [
            "You are at a fork in the road. Do you go 'left' or 'right'? left\n",
            "You chose to go left. You find a hidden treasure!\n",
            "Your health is now: 110\n"
          ]
        }
      ]
    },
    {
      "cell_type": "code",
      "source": [
        "# 3. Functions\n",
        "\n",
        "# Functions help us organize our code and reuse blocks of logic.\n",
        "# Let's create a function for a common event in the adventure, like resting.\n",
        "\n",
        "def rest(current_health):\n",
        "  \"\"\"\n",
        "  This function simulates resting and regaining some health.\n",
        "  It takes the current health as input and returns the new health.\n",
        "  \"\"\"\n",
        "  restored_health = 15\n",
        "  new_health = current_health + restored_health\n",
        "  print(f\"You rest and regain {restored_health} health.\")\n",
        "  return new_health\n",
        "\n",
        "# Now, let's call the rest function\n",
        "print(\"\\nAfter your encounter, you decide to rest.\")\n",
        "character_health = #TYPE THE REST FUNCTION AND USE THE CHARACTER HEALTH VARIABLE\n",
        "print(f\"Your health after resting is: {character_health}\")"
      ],
      "metadata": {
        "colab": {
          "base_uri": "https://localhost:8080/"
        },
        "id": "IYK8T0dYieJ4",
        "outputId": "1bb138f1-9f83-475d-af15-43dde26509fd"
      },
      "execution_count": null,
      "outputs": [
        {
          "output_type": "stream",
          "name": "stdout",
          "text": [
            "\n",
            "After your encounter, you decide to rest.\n",
            "You rest and regain 15 health.\n",
            "Your health after resting is: 125\n",
            "\n",
            "A mysterious stranger approaches. Do you 'talk' or 'ignore' them? talk\n",
            "The stranger tries to trick you!\n",
            "Your health after interacting with the stranger is: 115\n"
          ]
        }
      ]
    },
    {
      "cell_type": "code",
      "source": [
        "# Let's add another choice and use a function for an action\n",
        "\n",
        "action = input(\"\\nA mysterious stranger approaches. Do you 'talk' or 'ignore' them? \")\n",
        "\n",
        "def talk_to_stranger(health):\n",
        "  \"\"\"\n",
        "  This function simulates talking to the stranger.\n",
        "  It might affect your health positively or negatively.\n",
        "  \"\"\"\n",
        "  import random\n",
        "  outcome = random.choice(['good', 'bad'])\n",
        "  if outcome == 'good':\n",
        "    print(\"The stranger gives you a useful item.\")\n",
        "    return health + 5\n",
        "  else:\n",
        "    #TYPE OUT YOUR OWN MESSAGE HERE\n",
        "    return health - 10\n",
        "\n",
        "if action == 'talk':\n",
        "  character_health = talk_to_stranger(character_health)\n",
        "  print(f\"Your health after interacting with the stranger is: {character_health}\")\n",
        "elif action == 'ignore':\n",
        "  print(\"You ignore the stranger and move on.\")\n",
        "else:\n",
        "  print(\"Invalid choice. The stranger walks away.\")\n",
        "\n",
        "# You can continue building your adventure by adding more variables, conditionals, and functions!"
      ],
      "metadata": {
        "id": "tuOkc3peIK4x"
      },
      "execution_count": null,
      "outputs": []
    }
  ]
}